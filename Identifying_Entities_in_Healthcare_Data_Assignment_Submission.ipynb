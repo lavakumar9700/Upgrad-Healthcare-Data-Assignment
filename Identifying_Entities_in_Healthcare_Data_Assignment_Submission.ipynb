{
 "cells": [
  {
   "cell_type": "markdown",
   "metadata": {},
   "source": [
    "# Identifying Entities in Healthcare Data Assignment\n",
    "By: Lava Kumar Reddy"
   ]
  },
  {
   "cell_type": "markdown",
   "metadata": {},
   "source": [
    "### Import and Install useful packages"
   ]
  },
  {
   "cell_type": "code",
   "execution_count": 1,
   "metadata": {
    "colab": {
     "base_uri": "https://localhost:8080/"
    },
    "id": "1g1J0VBMSnNn",
    "outputId": "678b2190-2635-45f2-d7d0-d52be2036a35"
   },
   "outputs": [
    {
     "name": "stdout",
     "output_type": "stream",
     "text": [
      "Drive already mounted at /content/gdrive; to attempt to forcibly remount, call drive.mount(\"/content/gdrive\", force_remount=True).\n"
     ]
    }
   ],
   "source": [
    "# Setting up Google Colab for usage\n",
    "import pathlib\n",
    "import os\n",
    "from google.colab import drive\n",
    "drive.mount('/content/gdrive')\n",
    "base_dir = pathlib.Path('/content/gdrive/My Drive/healthcare')\n",
    "os.chdir(str(base_dir))"
   ]
  },
  {
   "cell_type": "code",
   "execution_count": 2,
   "metadata": {
    "colab": {
     "base_uri": "https://localhost:8080/"
    },
    "id": "7jhGSjl-TpvT",
    "outputId": "64077495-1cbe-49ab-998c-17859e13106c"
   },
   "outputs": [
    {
     "name": "stdout",
     "output_type": "stream",
     "text": [
      "test_label  test_sent  train_label  train_sent\n"
     ]
    }
   ],
   "source": [
    "!ls"
   ]
  },
  {
   "cell_type": "code",
   "execution_count": 3,
   "metadata": {
    "colab": {
     "base_uri": "https://localhost:8080/"
    },
    "id": "YmI9vmmZTvHS",
    "outputId": "5d43029d-941f-4aba-f496-defaa5e6affa"
   },
   "outputs": [
    {
     "name": "stdout",
     "output_type": "stream",
     "text": [
      "Looking in indexes: https://pypi.org/simple, https://us-python.pkg.dev/colab-wheels/public/simple/\n",
      "Requirement already satisfied: pycrf in /usr/local/lib/python3.7/dist-packages (0.0.1)\n",
      "Looking in indexes: https://pypi.org/simple, https://us-python.pkg.dev/colab-wheels/public/simple/\n",
      "Requirement already satisfied: sklearn-crfsuite in /usr/local/lib/python3.7/dist-packages (0.3.6)\n",
      "Requirement already satisfied: six in /usr/local/lib/python3.7/dist-packages (from sklearn-crfsuite) (1.15.0)\n",
      "Requirement already satisfied: tabulate in /usr/local/lib/python3.7/dist-packages (from sklearn-crfsuite) (0.8.10)\n",
      "Requirement already satisfied: python-crfsuite>=0.8.3 in /usr/local/lib/python3.7/dist-packages (from sklearn-crfsuite) (0.9.8)\n",
      "Requirement already satisfied: tqdm>=2.0 in /usr/local/lib/python3.7/dist-packages (from sklearn-crfsuite) (4.64.0)\n"
     ]
    }
   ],
   "source": [
    "# Installing and importing relevant libraries\n",
    "!pip install pycrf\n",
    "!pip install sklearn-crfsuite\n",
    "\n",
    "import spacy\n",
    "import sklearn_crfsuite\n",
    "from sklearn_crfsuite import metrics\n",
    "import pandas as pd\n",
    "\n",
    "model = spacy.load(\"en_core_web_sm\")"
   ]
  },
  {
   "cell_type": "markdown",
   "metadata": {},
   "source": [
    "## Data Preprocessing\n",
    "\n",
    "The dataset provided is in the form of one word per line. Let's understand the format of data below:\n",
    "\n",
    "Suppose there are x words in a sentence, then there will be x continuous lines with one word in each line.\n",
    "Further, the two sentences are separated by empty lines. The labels for the data follow the same format.\n",
    "We need to pre-process the data to recover the complete sentences and their labels.\n",
    "\n",
    "Construct the proper sentences from individual words and print the 5 sentences."
   ]
  },
  {
   "cell_type": "code",
   "execution_count": 4,
   "metadata": {
    "id": "ke3aG1zHTzEz"
   },
   "outputs": [],
   "source": [
    "# Reading the train and test sentences and labels\n",
    "with open('train_sent', 'r') as train_sent_file:\n",
    "  train_words = train_sent_file.readlines()\n",
    "\n",
    "with open('train_label', 'r') as train_labels_file:\n",
    "  train_labels_by_word = train_labels_file.readlines()\n",
    "\n",
    "with open('test_sent', 'r') as test_sent_file:\n",
    "  test_words = test_sent_file.readlines()\n",
    "\n",
    "with open('test_label', 'r') as test_labels_file:\n",
    "  test_labels_by_word = test_labels_file.readlines()"
   ]
  },
  {
   "cell_type": "code",
   "execution_count": 5,
   "metadata": {
    "id": "UH9Uc59-UJJD"
   },
   "outputs": [],
   "source": [
    "def convert_to_sentences(dataset):\n",
    "    sent_list = []\n",
    "    sent = \"\"\n",
    "    for entity in dataset:\n",
    "        if entity != '\\n':\n",
    "            sent = sent + entity[:-1] + \" \"       # Adding word/label to current sentence / sequence of labels \n",
    "        else: \n",
    "            sent_list.append(sent[:-1])           # Getting rid of the space added after the last entity.\n",
    "            sent = \"\"\n",
    "    return sent_list"
   ]
  },
  {
   "cell_type": "code",
   "execution_count": 6,
   "metadata": {
    "id": "9o2jfXP8UOBK"
   },
   "outputs": [],
   "source": [
    "# Converting tokens to sentences and individual labels to sequences of corresponding labels.\n",
    "train_sentences = convert_to_sentences(train_words)\n",
    "train_labels = convert_to_sentences(train_labels_by_word)\n",
    "test_sentences = convert_to_sentences(test_words)\n",
    "test_labels = convert_to_sentences(test_labels_by_word)"
   ]
  },
  {
   "cell_type": "markdown",
   "metadata": {},
   "source": [
    "### Five sentences"
   ]
  },
  {
   "cell_type": "code",
   "execution_count": 7,
   "metadata": {
    "colab": {
     "base_uri": "https://localhost:8080/"
    },
    "id": "tK_3yiVcUQUS",
    "outputId": "59580512-80f1-4c87-e72a-2ea69a6534ff"
   },
   "outputs": [
    {
     "name": "stdout",
     "output_type": "stream",
     "text": [
      "First five training sentences and their labels:\n",
      "\n",
      "All live births > or = 23 weeks at the University of Vermont in 1995 ( n = 2395 ) were retrospectively analyzed for delivery route , indication for cesarean , gestational age , parity , and practice group ( to reflect risk status ) \n",
      " O O O O O O O O O O O O O O O O O O O O O O O O O O O O O O O O O O O O O O O O O O O O O \n",
      "\n",
      "The total cesarean rate was 14.4 % ( 344 of 2395 ) , and the primary rate was 11.4 % ( 244 of 2144 ) \n",
      " O O O O O O O O O O O O O O O O O O O O O O O O O \n",
      "\n",
      "Abnormal presentation was the most common indication ( 25.6 % , 88 of 344 ) \n",
      " O O O O O O O O O O O O O O O \n",
      "\n",
      "The `` corrected '' cesarean rate ( maternal-fetal medicine and transported patients excluded ) was 12.4 % ( 273 of 2194 ) , and the `` corrected '' primary rate was 9.6 % ( 190 of 1975 ) \n",
      " O O O O O O O O O O O O O O O O O O O O O O O O O O O O O O O O O O O O O O \n",
      "\n",
      "Arrest of dilation was the most common indication in both `` corrected '' subgroups ( 23.4 and 24.6 % , respectively ) \n",
      " O O O O O O O O O O O O O O O O O O O O O O \n",
      "\n"
     ]
    }
   ],
   "source": [
    "print(\"First five training sentences and their labels:\\n\")\n",
    "for i in range(5):\n",
    "    print(train_sentences[i],\"\\n\",train_labels[i],\"\\n\")"
   ]
  },
  {
   "cell_type": "code",
   "execution_count": 8,
   "metadata": {
    "colab": {
     "base_uri": "https://localhost:8080/"
    },
    "id": "yIUv9VZeUQby",
    "outputId": "838fb661-60fb-44f7-850a-e4f7292a38d7"
   },
   "outputs": [
    {
     "name": "stdout",
     "output_type": "stream",
     "text": [
      "First five test sentences and their labels:\n",
      "\n",
      "Furthermore , when all deliveries were analyzed , regardless of risk status but limited to gestational age > or = 36 weeks , the rates did not change ( 12.6 % , 280 of 2214 ; primary 9.2 % , 183 of 1994 ) \n",
      " O O O O O O O O O O O O O O O O O O O O O O O O O O O O O O O O O O O O O O O O O O O O \n",
      "\n",
      "As the ambient temperature increases , there is an increase in insensible fluid loss and the potential for dehydration \n",
      " O O O O O O O O O O O O O O O O O O O \n",
      "\n",
      "The daily high temperature ranged from 71 to 104 degrees F and AFI values ranged from 1.7 to 24.7 cm during the study period \n",
      " O O O O O O O O O O O O O O O O O O O O O O O O \n",
      "\n",
      "There was a significant correlation between the 2- , 3- , and 4-day mean temperature and AFI , with the 4-day mean being the most significant ( r = 0.31 , p & # 60 ; 0.001 ) \n",
      " O O O O O O O O O O O O O O O O O O O O O O O O O O O O O O O O O O O O O O \n",
      "\n",
      "Fluctuations in ambient temperature are inversely correlated to changes in AFI \n",
      " O O O O O O O O O O O \n",
      "\n"
     ]
    }
   ],
   "source": [
    "print(\"First five test sentences and their labels:\\n\")\n",
    "for i in range(5):\n",
    "    print(test_sentences[i],\"\\n\",test_labels[i],\"\\n\")"
   ]
  },
  {
   "cell_type": "markdown",
   "metadata": {},
   "source": [
    "#### Count the number of sentences in the processed train and test dataset"
   ]
  },
  {
   "cell_type": "code",
   "execution_count": 9,
   "metadata": {
    "colab": {
     "base_uri": "https://localhost:8080/"
    },
    "id": "54ZN-kemUzq7",
    "outputId": "6b185091-9b99-4c79-e926-731971843226"
   },
   "outputs": [
    {
     "name": "stdout",
     "output_type": "stream",
     "text": [
      "Number of sentences in the train dataset: 2599\n",
      "Number of sentences in the test dataset: 1056\n"
     ]
    }
   ],
   "source": [
    "print(\"Number of sentences in the train dataset: {}\".format(len(train_sentences)))\n",
    "print(\"Number of sentences in the test dataset: {}\".format(len(test_sentences)))"
   ]
  },
  {
   "cell_type": "markdown",
   "metadata": {},
   "source": [
    "#### Count the number of lines of labels in the processed train and test dataset."
   ]
  },
  {
   "cell_type": "code",
   "execution_count": 10,
   "metadata": {
    "colab": {
     "base_uri": "https://localhost:8080/"
    },
    "id": "MO-suV3JU2NS",
    "outputId": "0e8092de-e967-4b16-9d10-e322ad782c6e"
   },
   "outputs": [
    {
     "name": "stdout",
     "output_type": "stream",
     "text": [
      "Number of lines of labels in the train dataset: 2599\n",
      "Number of lines of labels in the test dataset: 1056\n"
     ]
    }
   ],
   "source": [
    "print(\"Number of lines of labels in the train dataset: {}\".format(len(train_labels)))\n",
    "print(\"Number of lines of labels in the test dataset: {}\".format(len(test_labels)))"
   ]
  },
  {
   "cell_type": "markdown",
   "metadata": {},
   "source": [
    "### Concept Identification\n",
    "We will first explore what are the various concepts present in the dataset. For this, we will use PoS Tagging.\n",
    "\n",
    "### Extract those tokens which have NOUN or PROPN as their PoS tag and find their frequency"
   ]
  },
  {
   "cell_type": "code",
   "execution_count": 11,
   "metadata": {
    "colab": {
     "base_uri": "https://localhost:8080/"
    },
    "id": "zPomP32eU7XS",
    "outputId": "b6e99642-f331-4d3a-de33-2c90cc037963"
   },
   "outputs": [
    {
     "name": "stdout",
     "output_type": "stream",
     "text": [
      "Number of sentences in combined dataset (training + test): 3655\n"
     ]
    }
   ],
   "source": [
    "# Creating a combined dataset from training and test sentences, since this is an Exploratory analysis.\n",
    "combined = train_sentences + test_sentences\n",
    "print(\"Number of sentences in combined dataset (training + test): {}\".format(len(combined)))"
   ]
  },
  {
   "cell_type": "code",
   "execution_count": 12,
   "metadata": {
    "colab": {
     "base_uri": "https://localhost:8080/"
    },
    "id": "rV2A_RVwVNCC",
    "outputId": "77e187e8-8d89-4e30-df48-35f5369b4538"
   },
   "outputs": [
    {
     "name": "stdout",
     "output_type": "stream",
     "text": [
      "No. of tokens in combined dataset with PoS tag of 'NOUN' or 'PROPN': 24292\n"
     ]
    }
   ],
   "source": [
    "# Creating a list of tokens which have PoS tag of 'NOUN' or 'PROPN'\n",
    "noun_propn = []         # Initiating list for nouns and proper nouns\n",
    "pos_tag = []            # initiating list for corresponding PoS tags.\n",
    "for sent in combined:\n",
    "    for token in model(sent):\n",
    "        if token.pos_ in ['NOUN', 'PROPN']:\n",
    "           noun_propn.append(token.text)\n",
    "           pos_tag.append(token.pos_)\n",
    "print(\"No. of tokens in combined dataset with PoS tag of 'NOUN' or 'PROPN': {}\".format(len(noun_propn)))"
   ]
  },
  {
   "cell_type": "code",
   "execution_count": 13,
   "metadata": {
    "colab": {
     "base_uri": "https://localhost:8080/"
    },
    "id": "PXzsiNciVRUC",
    "outputId": "876e2dfb-7c82-4f58-d023-6a4f6ffcb81c"
   },
   "outputs": [
    {
     "name": "stdout",
     "output_type": "stream",
     "text": [
      "24292\n"
     ]
    }
   ],
   "source": [
    "print(len(pos_tag))"
   ]
  },
  {
   "cell_type": "markdown",
   "metadata": {},
   "source": [
    "### Print the top 25 most common tokens with NOUN or PROPN PoS tags"
   ]
  },
  {
   "cell_type": "code",
   "execution_count": 14,
   "metadata": {
    "colab": {
     "base_uri": "https://localhost:8080/"
    },
    "id": "ZS6rPi7kVSJq",
    "outputId": "9bf4a1c1-6840-4906-c154-6fc0ff13324b"
   },
   "outputs": [
    {
     "name": "stdout",
     "output_type": "stream",
     "text": [
      "Top 25 comon tokens with PoS tag of 'NOUN' or 'PROPN' \n",
      "\n",
      "patients        492\n",
      "treatment       281\n",
      "%               247\n",
      "cancer          200\n",
      "therapy         175\n",
      "study           152\n",
      "disease         141\n",
      "cell            140\n",
      "lung            116\n",
      "group            94\n",
      "chemotherapy     88\n",
      "gene             87\n",
      "effects          85\n",
      "results          78\n",
      "women            77\n",
      "use              74\n",
      "risk             71\n",
      "surgery          71\n",
      "cases            71\n",
      "analysis         70\n",
      "rate             67\n",
      "response         66\n",
      "survival         65\n",
      "children         64\n",
      "effect           63\n",
      "Name: NOUN_PROPN, dtype: int64\n"
     ]
    }
   ],
   "source": [
    "noun_pos = pd.DataFrame({\"NOUN_PROPN\":noun_propn,\"POS_tag\":pos_tag})\n",
    "print(\"Top 25 comon tokens with PoS tag of 'NOUN' or 'PROPN' \\n\")\n",
    "print(noun_pos[\"NOUN_PROPN\"].value_counts().head(25))"
   ]
  },
  {
   "cell_type": "markdown",
   "metadata": {},
   "source": [
    "## Defining features for CRF"
   ]
  },
  {
   "cell_type": "code",
   "execution_count": 15,
   "metadata": {
    "colab": {
     "base_uri": "https://localhost:8080/"
    },
    "id": "wtCAGeYxVUur",
    "outputId": "9b934655-1647-4282-9523-b0cf58bec954"
   },
   "outputs": [
    {
     "name": "stdout",
     "output_type": "stream",
     "text": [
      "The total cesarean rate was 14.4 % ( 344 of 2395 ) , and the primary rate was 11.4 % ( 244 of 2144 )\n",
      "\n",
      "PoS tag of word in isolation\n",
      "Word: cesarean -- PROPN \n",
      "\n",
      "PoS tag of all words in sentence with context in tact.\n",
      "The -- DET\n",
      "total -- ADJ\n",
      "cesarean -- ADJ\n",
      "rate -- NOUN\n",
      "was -- AUX\n",
      "14.4 -- NUM\n",
      "% -- NOUN\n",
      "( -- PUNCT\n",
      "344 -- NUM\n",
      "of -- ADP\n",
      "2395 -- NUM\n",
      ") -- PUNCT\n",
      ", -- PUNCT\n",
      "and -- CCONJ\n",
      "the -- DET\n",
      "primary -- ADJ\n",
      "rate -- NOUN\n",
      "was -- AUX\n",
      "11.4 -- NUM\n",
      "% -- NOUN\n",
      "( -- PUNCT\n",
      "244 -- NUM\n",
      "of -- ADP\n",
      "2144 -- NUM\n",
      ") -- PUNCT\n",
      "\n",
      "Result of modified workflow to obtain PoS tag of word at a specific position while keeping context within sentence in-tact.\n",
      "Word: cesarean POSTAG: ADJ\n"
     ]
    }
   ],
   "source": [
    "# Analysis of PoS tags - Independent assignment for words vs Contextual assignment in a sentence.\n",
    "sentence = train_sentences[1]   \n",
    "sent_list = sentence.split()      # Splitting the sentence into its constituent words.\n",
    "position = 2                      # Choosing position of word within sentence. Index starts at 0.\n",
    "\n",
    "word = sent_list[position]        # Extracting word for PoS tag analysis.\n",
    "\n",
    "print(sentence)\n",
    "\n",
    "# Independent assignment of PoS tag (No contextual info)\n",
    "print(\"\\nPoS tag of word in isolation\\nWord:\",word,\"--\",model(word)[0].pos_,\"\\n\")\n",
    "\n",
    "# Contextual assignment of PoS tag based on other words in the sentence.\n",
    "print(\"PoS tag of all words in sentence with context in tact.\")\n",
    "for token in model(sentence):\n",
    "    print(token.text, \"--\", token.pos_)\n",
    "\n",
    "# Modified workflow to obtain PoS tag of specific word in question while keeping sentence context in tact.\n",
    "print(\"\\nResult of modified workflow to obtain PoS tag of word at a specific position while keeping context within sentence in-tact.\")\n",
    "cnt = 0                           # Count of the word position within sentence.\n",
    "for token in model(sentence):\n",
    "      postag = token.pos_\n",
    "      if (token.text == word) and (cnt == position):\n",
    "          break\n",
    "      cnt += 1\n",
    "print(\"Word:\", word,\"POSTAG:\",postag)"
   ]
  },
  {
   "cell_type": "markdown",
   "metadata": {},
   "source": [
    "As we can see in the analysis above, the PoS tag of the word \"cesarean\" is not captured correctly if the word is considered individually. However, if the word is considered as a part of the sentence, then it is captured correctly. By Defining a function we can execute this."
   ]
  },
  {
   "cell_type": "code",
   "execution_count": 16,
   "metadata": {
    "id": "DVD3TGF7V-7c"
   },
   "outputs": [],
   "source": [
    "# Function to obtain contextual PoS tagger.\n",
    "def contextual_pos_tagger(sent_list,position):\n",
    "    '''Obtaining PoS tag for individual word with sentence context in-tact. \n",
    "       If the PoS tag is obtained for a word individually, it may not capture the context of use in the sentence and may assign the incorrect PoS tag.'''\n",
    "\n",
    "    sentence = \" \".join(sent_list)          # Sentence needs to be in string format to process it with spacy model. List of words won't work.\n",
    "    posit = 0                               # Initialising variable to record position of word in joined sentence to compare with the position of the word under considertion.\n",
    "    for token in model(sentence):\n",
    "        postag = token.pos_\n",
    "        if (token.text == word) and (posit == position):\n",
    "            break\n",
    "        posit += 1\n",
    "    return postag"
   ]
  },
  {
   "cell_type": "code",
   "execution_count": 17,
   "metadata": {
    "id": "a15dsW7QWBq7"
   },
   "outputs": [],
   "source": [
    "# Define the features to get the feature values for one word.\n",
    "def getFeaturesForOneWord(sent_list, position):\n",
    "  word = sent_list[position]\n",
    "    \n",
    "  # Obtaining features for current word\n",
    "  features = [\n",
    "    'word.lower=' + word.lower(),                                   # serves as word id\n",
    "    'word.postag=' + contextual_pos_tagger(sent_list, position),    # PoS tag of current word\n",
    "    'word[-3:]=' + word[-3:],                                       # last three characters\n",
    "    'word[-2:]=' + word[-2:],                                       # last two characters\n",
    "    'word.isupper=%s' % word.isupper(),                             # is the word in all uppercase\n",
    "    'word.isdigit=%s' % word.isdigit(),                             # is the word a number\n",
    "    'words.startsWithCapital=%s' % word[0].isupper()                # is the word starting with a capital letter\n",
    "  ]\n",
    " \n",
    "  if(position > 0):\n",
    "    prev_word = sent_list[position-1]\n",
    "    features.extend([\n",
    "    'prev_word.lower=' + prev_word.lower(),                               # previous word\n",
    "    'prev_word.postag=' + contextual_pos_tagger(sent_list, position - 1), # PoS tag of previous word\n",
    "    'prev_word.isupper=%s' % prev_word.isupper(),                         # is the previous word in all uppercase\n",
    "    'prev_word.isdigit=%s' % prev_word.isdigit(),                         # is the previous word a number\n",
    "    'prev_words.startsWithCapital=%s' % prev_word[0].isupper()            # is the previous word starting with a capital letter\n",
    "  ])\n",
    "  else:\n",
    "    features.append('BEG')                                                # feature to track begin of sentence \n",
    " \n",
    "  if(position == len(sent_list)-1):\n",
    "    features.append('END')                                                # feature to track end of sentence\n",
    " \n",
    "  return features"
   ]
  },
  {
   "cell_type": "markdown",
   "metadata": {},
   "source": [
    "## Getting the features\n"
   ]
  },
  {
   "cell_type": "code",
   "execution_count": 18,
   "metadata": {
    "id": "GDi-ml4KWEGj"
   },
   "outputs": [],
   "source": [
    "# Write a code to get features for a sentence.\n",
    "def getFeaturesForOneSentence(sentence):\n",
    "  sentence_list = sentence.split()\n",
    "  return [getFeaturesForOneWord(sentence_list, position) for position in range(len(sentence_list))]"
   ]
  },
  {
   "cell_type": "code",
   "execution_count": 19,
   "metadata": {
    "colab": {
     "base_uri": "https://localhost:8080/"
    },
    "id": "r05t3SYYWGLi",
    "outputId": "7e55d8f2-06d4-42a8-d03f-87002496127e"
   },
   "outputs": [
    {
     "name": "stdout",
     "output_type": "stream",
     "text": [
      "Cesarean rates at tertiary care hospitals should be compared with rates at community hospitals only after correcting for dissimilar patient groups or gestational age\n"
     ]
    },
    {
     "data": {
      "text/plain": [
       "['word.lower=cesarean',\n",
       " 'word.postag=NOUN',\n",
       " 'word[-3:]=ean',\n",
       " 'word[-2:]=an',\n",
       " 'word.isupper=False',\n",
       " 'word.isdigit=False',\n",
       " 'words.startsWithCapital=True',\n",
       " 'BEG']"
      ]
     },
     "execution_count": 19,
     "metadata": {},
     "output_type": "execute_result"
    }
   ],
   "source": [
    "# Checking feature extraction\n",
    "example_sentence = train_sentences[5]\n",
    "print(example_sentence)\n",
    "\n",
    "features = getFeaturesForOneSentence(example_sentence)\n",
    "features[0]"
   ]
  },
  {
   "cell_type": "code",
   "execution_count": 20,
   "metadata": {
    "colab": {
     "base_uri": "https://localhost:8080/"
    },
    "id": "XA_rTIukWJJD",
    "outputId": "ddc1f4c2-8ea0-4fe5-c8d6-a41921dfe74f"
   },
   "outputs": [
    {
     "data": {
      "text/plain": [
       "['word.lower=care',\n",
       " 'word.postag=NOUN',\n",
       " 'word[-3:]=are',\n",
       " 'word[-2:]=re',\n",
       " 'word.isupper=False',\n",
       " 'word.isdigit=False',\n",
       " 'words.startsWithCapital=False',\n",
       " 'prev_word.lower=tertiary',\n",
       " 'prev_word.postag=NOUN',\n",
       " 'prev_word.isupper=False',\n",
       " 'prev_word.isdigit=False',\n",
       " 'prev_words.startsWithCapital=False']"
      ]
     },
     "execution_count": 20,
     "metadata": {},
     "output_type": "execute_result"
    }
   ],
   "source": [
    "features[4]"
   ]
  },
  {
   "cell_type": "markdown",
   "metadata": {},
   "source": [
    "## Write a code/function to get the labels of a sentence"
   ]
  },
  {
   "cell_type": "code",
   "execution_count": 21,
   "metadata": {
    "id": "V4ddFpEfWYxD"
   },
   "outputs": [],
   "source": [
    "# Write a code to get the labels for a sentence.\n",
    "def getLabelsInListForOneSentence(labels):\n",
    "  return labels.split()"
   ]
  },
  {
   "cell_type": "code",
   "execution_count": 22,
   "metadata": {
    "colab": {
     "base_uri": "https://localhost:8080/"
    },
    "id": "QJNOJbAKWcSj",
    "outputId": "2b8e36d4-95cd-491c-a31c-18ebf2b55f1a"
   },
   "outputs": [
    {
     "name": "stdout",
     "output_type": "stream",
     "text": [
      "['O', 'O', 'O', 'O', 'O', 'O', 'O', 'O', 'O', 'O', 'O', 'O', 'O', 'O', 'O', 'O', 'O', 'O', 'O', 'O', 'O', 'O', 'O', 'O']\n"
     ]
    }
   ],
   "source": [
    "# Checking label extraction\n",
    "example_labels = getLabelsInListForOneSentence(train_labels[5])\n",
    "print(example_labels)"
   ]
  },
  {
   "cell_type": "markdown",
   "metadata": {},
   "source": [
    "## Define input and target variables\n",
    "\n",
    "## Define the features' values for each sentence as input variable for CRF model in test and the train dataset"
   ]
  },
  {
   "cell_type": "code",
   "execution_count": 23,
   "metadata": {
    "id": "3IEhI9DAWeqi"
   },
   "outputs": [],
   "source": [
    "X_train = [getFeaturesForOneSentence(sentence) for sentence in train_sentences]\n",
    "X_test = [getFeaturesForOneSentence(sentence) for sentence in test_sentences]"
   ]
  },
  {
   "cell_type": "markdown",
   "metadata": {},
   "source": [
    "## Define the labels as the target variable for test and the train dataset"
   ]
  },
  {
   "cell_type": "code",
   "execution_count": 24,
   "metadata": {
    "id": "lCZK6bZUWhhs"
   },
   "outputs": [],
   "source": [
    "Y_train = [getLabelsInListForOneSentence(labels) for labels in train_labels]\n",
    "Y_test = [getLabelsInListForOneSentence(labels) for labels in test_labels]"
   ]
  },
  {
   "cell_type": "code",
   "execution_count": 25,
   "metadata": {
    "colab": {
     "base_uri": "https://localhost:8080/"
    },
    "id": "Jagn5nqogpeu",
    "outputId": "53fe448e-3e3e-499a-af1b-6daebe4adc30"
   },
   "outputs": [
    {
     "name": "stdout",
     "output_type": "stream",
     "text": [
      "Looking in indexes: https://pypi.org/simple, https://us-python.pkg.dev/colab-wheels/public/simple/\n",
      "Requirement already satisfied: scikit-learn==0.22.2 in /root/.local/lib/python3.7/site-packages (0.22.2)\n",
      "Requirement already satisfied: joblib>=0.11 in /usr/local/lib/python3.7/dist-packages (from scikit-learn==0.22.2) (1.1.0)\n",
      "Requirement already satisfied: scipy>=0.17.0 in /usr/local/lib/python3.7/dist-packages (from scikit-learn==0.22.2) (1.7.3)\n",
      "Requirement already satisfied: numpy>=1.11.0 in /usr/local/lib/python3.7/dist-packages (from scikit-learn==0.22.2) (1.21.6)\n"
     ]
    }
   ],
   "source": [
    "pip install scikit-learn==0.22.2 --user"
   ]
  },
  {
   "cell_type": "markdown",
   "metadata": {},
   "source": [
    "# Build the CRF Model"
   ]
  },
  {
   "cell_type": "code",
   "execution_count": 26,
   "metadata": {
    "colab": {
     "base_uri": "https://localhost:8080/"
    },
    "id": "ETix8Ci8WjmK",
    "outputId": "59c12869-4aab-4060-91a9-a2e572d174a3"
   },
   "outputs": [
    {
     "name": "stderr",
     "output_type": "stream",
     "text": [
      "/root/.local/lib/python3.7/site-packages/sklearn/base.py:197: FutureWarning: From version 0.24, get_params will raise an AttributeError if a parameter cannot be retrieved as an instance attribute. Previously it would return None.\n",
      "  FutureWarning)\n"
     ]
    },
    {
     "data": {
      "text/plain": [
       "CRF(algorithm=None, all_possible_states=None, all_possible_transitions=None,\n",
       "    averaging=None, c=None, c1=None, c2=None, calibration_candidates=None,\n",
       "    calibration_eta=None, calibration_max_trials=None, calibration_rate=None,\n",
       "    calibration_samples=None, delta=None, epsilon=None, error_sensitive=None,\n",
       "    gamma=None, keep_tempfiles=None, linesearch=None, max_iterations=300,\n",
       "    max_linesearch=None, min_freq=None, model_filename=None, num_memories=None,\n",
       "    pa_type=None, period=None, trainer_cls=None, variance=None, verbose=False)"
      ]
     },
     "execution_count": 26,
     "metadata": {},
     "output_type": "execute_result"
    }
   ],
   "source": [
    "# Building the CRF model. Using max_iterations as 200.\n",
    "crf = sklearn_crfsuite.CRF(max_iterations=300)\n",
    "\n",
    "crf.fit(X_train, Y_train)"
   ]
  },
  {
   "cell_type": "markdown",
   "metadata": {},
   "source": [
    "## Evaluation\n",
    "Predict the labels of each of the tokens in each sentence of the test dataset that has been pre processed earlier."
   ]
  },
  {
   "cell_type": "code",
   "execution_count": 27,
   "metadata": {
    "id": "ksSTFzJeWmS8"
   },
   "outputs": [],
   "source": [
    "Y_pred = crf.predict(X_test)"
   ]
  },
  {
   "cell_type": "markdown",
   "metadata": {},
   "source": [
    "## Calculate the f1 score using the actual labels and the predicted labels of the test dataset"
   ]
  },
  {
   "cell_type": "code",
   "execution_count": 28,
   "metadata": {
    "colab": {
     "base_uri": "https://localhost:8080/"
    },
    "id": "UTW6y0MRWo4b",
    "outputId": "3283e490-3f48-4dc1-9821-6ea8963a98e1"
   },
   "outputs": [
    {
     "data": {
      "text/plain": [
       "0.9087506970244783"
      ]
     },
     "execution_count": 28,
     "metadata": {},
     "output_type": "execute_result"
    }
   ],
   "source": [
    "metrics.flat_f1_score(Y_test, Y_pred, average='weighted')"
   ]
  },
  {
   "cell_type": "markdown",
   "metadata": {},
   "source": [
    "## Identifying Diseases and Treatments using Custom NER\n",
    "We now use the CRF model's prediction to prepare a record of diseases identified in the corpus and treatments used for the diseases.\n",
    "\n",
    "Creating the logic to get all the predicted treatments (T) labels corresponding to each disease (D) label in the test dataset."
   ]
  },
  {
   "cell_type": "code",
   "execution_count": 29,
   "metadata": {
    "id": "FqfTA68SXdXe"
   },
   "outputs": [],
   "source": [
    "# Extracting a dictionary of all the predicted diseases from our test data and the corresponding treatments.\n",
    "# Assumption: For each identified disease, one of the treatments is in the same sentence as the disease exists.\n",
    "disease_treatment = {}            # Initializing an empty dictionary\n",
    "for i in range(len(Y_pred)):\n",
    "    cnt_disease = 0           # Count of number of diseases mentioned in the sentence\n",
    "    cnt_treatment = 0         # Count of the number of treatments mentioned in the sentence\n",
    "    diseases = [\"\"]           # Initializing a blank list of diseases for current sentence.\n",
    "    treatment = [\"\"]          # Initializing a blank list of treatments for current sentence.\n",
    "    length = len(Y_pred[i])   # Length of current sentence.\n",
    "    for j in range(length):\n",
    "        if (Y_pred[i][j] == 'D'):                                                     # Checking for label indicating disease for current word ('D')\n",
    "            diseases[cnt_disease] += (X_test[i][j][0].split('=')[1] + \" \")            # Adding word to diseases list.\n",
    "            if j < length - 1:\n",
    "                if (Y_pred[i][j+1] != 'D'):                                           # Check for name of disease extending over multiple words. \n",
    "                    # If next word does not have label 'D', then truncate the space added at the end of the last word.\n",
    "                    diseases[cnt_disease] = diseases[cnt_disease][:-1]\n",
    "                    cnt_disease += 1\n",
    "                    diseases.append(\"\")                                               # Adding a placeholder for the next disease in the current sentence.\n",
    "            else:\n",
    "                diseases[cnt_disease] = diseases[cnt_disease][:-1]\n",
    "                cnt_disease += 1\n",
    "                diseases.append(\"\")\n",
    "                            \n",
    "        if (Y_pred[i][j] == 'T'):                                                     # Checking for label indicating treatment for current word ('T')\n",
    "            treatment[cnt_treatment] += (X_test[i][j][0].split('=')[1] + \" \") # Adding word to corresponding treatment list.\n",
    "            if j < length - 1:\n",
    "                if (Y_pred[i][j+1] != 'T'):                                           # Check for name of treatment extending over multiple words. \n",
    "                    # If next word does not have label 'T', then truncate the space added at the end of the last word.\n",
    "                    treatment[cnt_treatment] = treatment[cnt_treatment][:-1]\n",
    "                    cnt_treatment += 1\n",
    "                    treatment.append(\"\")                                              # Adding a placeholder for the next treatment in the current sentence.\n",
    "            else:\n",
    "                treatment[cnt_treatment] = treatment[cnt_treatment][:-1]\n",
    "                cnt_treatment += 1\n",
    "                treatment.append(\"\")\n",
    "\n",
    "    diseases.pop(-1)    # Getting rid of the last empty placeholder in diseases list\n",
    "    treatment.pop(-1)   # Getting rid of the last empty placeholder in treatments list\n",
    "\n",
    "    # To our dictionary, add or append treatments to the diseases identified from the current sentence, if any.\n",
    "    if len(diseases) > 0:       # Checking if any diseases have been identified for the current sentence.\n",
    "        for disease in diseases:\n",
    "            if disease in disease_treatment.keys():\n",
    "                # Extend treatment list if other treatments for the particular disease already exist\n",
    "                disease_treatment[disease].extend(treatment)\n",
    "            else:\n",
    "                # Creating list of treatments for particular disease if it doesn not exist already.\n",
    "                disease_treatment[disease] = treatment"
   ]
  },
  {
   "cell_type": "code",
   "execution_count": 30,
   "metadata": {
    "colab": {
     "base_uri": "https://localhost:8080/"
    },
    "id": "TgCVmRn6Xje7",
    "outputId": "1c421421-4e28-468b-c91e-568ad8dee0f0",
    "scrolled": false
   },
   "outputs": [
    {
     "data": {
      "text/plain": [
       "{' xerostomia': ['irradiation therapy', 'intravenous amifostine'],\n",
       " 'acoustic neuroma': ['stereotactic radiosurgery'],\n",
       " 'acute cerebral ischemia': ['antiplatelet therapy'],\n",
       " 'acute myocardial infarction': ['thrombolytic therapy'],\n",
       " 'acute nasopharyngitis ( anp )': ['antibiotic treatment'],\n",
       " 'acute occlusion of the middle cerebral artery': ['thrombolytic therapy'],\n",
       " 'adenocarcinoma': ['resection'],\n",
       " 'advanced esophageal cancer': ['adjuvant chemoradiotherapy with cddp'],\n",
       " 'advanced hormone refractory prostate cancer': ['combination with paclitaxel and carboplatin'],\n",
       " 'advanced non -- small-cell lung cancer': ['paclitaxel plus carboplatin ( pc )',\n",
       "  'vinorelbine plus cisplatin ( vc )'],\n",
       " 'advanced nsclc': ['assessing combination chemotherapy of cisplatin , ifosfamide and irinotecan with rhg-csf support'],\n",
       " 'advanced renal cell carcinoma': ['various interferon alpha preparations',\n",
       "  'interferon alfa-n1 , interferon alfa-2a , and interferon alfa-2b'],\n",
       " 'advanced stage ( tnm iib-ivb ) mycosis fungoides': ['a combination chemotherapy program consisting of bleomycin and methotrexate weekly , doxorubicin every'],\n",
       " 'asthma': ['fluticasone propionate'],\n",
       " 'atrial fibrillation': ['antiplatelet therapy'],\n",
       " 'autoimmune diseases': ['high-dose intravenous immunoglobulin ( hdivig )'],\n",
       " 'autoimmune hemolytic anemia': ['heparin'],\n",
       " 'b16 melanoma': ['adenosine triphosphate and treatment with buthionine sulfoximine'],\n",
       " 'biliary colic symptoms': ['cholecystectomy'],\n",
       " 'biliary dyskinesia': ['cholecystectomy'],\n",
       " 'breast cancer': ['hormone replacement therapy',\n",
       "  'undergone subcutaneous mastectomy'],\n",
       " 'bronchiectasis': ['antibiotics and surgery', 'current surgical therapy'],\n",
       " 'cancer': ['organ transplantation and chemotherapy',\n",
       "  'matrix metalloproteinase inhibitors'],\n",
       " 'cellulitis': ['g-csf therapy', 'intravenous antibiotic treatment'],\n",
       " 'cerebral palsy': ['hyperbaric oxygen therapy'],\n",
       " 'chronic hepatitis c': ['combination therapy with interferon-alpha ( ifn alpha ) plus ribavirin'],\n",
       " 'colorectal cancer': ['elective surgery',\n",
       "  'docosahexanoic acid ( dha ) -concentrated fish oil'],\n",
       " 'colorectal metastases': ['therapeutic vats metastasectomy'],\n",
       " 'common cold': ['macrolide antibiotics'],\n",
       " 'coronary-artery disease': ['antichlamydial antibiotics'],\n",
       " 'disseminated malignant melanoma': ['leukocyte a recombinant interferon ( rifn-alpha'],\n",
       " \"early parkinson 's disease\": ['ropinirole monotherapy'],\n",
       " \"eisenmenger 's syndrome\": ['laparoscopic cholecystectomy'],\n",
       " 'epithelial ovarian cancer': ['high-dose chemotherapy'],\n",
       " 'esophageal achalasia': ['botulinum toxin injection , pneumatic dilation , and laparoscopic myotomy'],\n",
       " 'extensive disease': ['platinum dose ( cisplatin plus carboplatin ) in combination chemotherapy',\n",
       "  'combination therapy with carboplatin alone'],\n",
       " 'female stress urinary incontinence': ['surgical treatment'],\n",
       " 'foot infection': ['g-csf treatment'],\n",
       " 'gastrointestinal tumours': ['elective surgery'],\n",
       " 'head and neck cancer': ['irradiation therapy', 'intravenous amifostine'],\n",
       " 'hepatic metastases from colorectal cancer': ['hepatic arterial infusion of chemotherapy after resection'],\n",
       " 'hepatitis b': ['vaccine containing mf59'],\n",
       " 'hepatitis c viremia': ['combination therapy'],\n",
       " 'hereditary retinoblastoma': ['radiotherapy'],\n",
       " 'infection': ['a combination of omeprazole , amoxicillin , and clarithromycin'],\n",
       " 'inflammatory skin diseases': ['topical corticosteroids'],\n",
       " 'inoperable advanced malignancies such as colorectal cancer': ['combination with leucovorin or cisplatin'],\n",
       " 'irritable bowel syndrome': ['chinese herbal medicine'],\n",
       " 'leukemia': ['trisomy'],\n",
       " 'limited stage small cell lung cancer': ['vip combination chemotherapy and early concurrent thoracic irradiation'],\n",
       " 'locally advanced non-small-cell lung cancer ( la-nsclc )': ['chemotherapy and radiotherapy )'],\n",
       " \"low-grade non-hodgkin 's lymphoma\": ['interferon alpha'],\n",
       " 'lung carcinoma': ['videothoracoscopic lobectomy or partial resection',\n",
       "  'open thoracotomy'],\n",
       " 'major pulmonary embolism': ['thrombolytic treatment'],\n",
       " 'malignant melanoma': ['interferon alfa-2a'],\n",
       " 'malignant pleural effusions from nsclc': ['systemic chemotherapy'],\n",
       " 'malignant pleural mesothelioma': ['thoracotomy , radiotherapy , and chemotherapy'],\n",
       " 'melanoma': ['surgical resection'],\n",
       " 'mesothelioma and non-small cell lung cancer': ['oxaliplatin'],\n",
       " 'metastatic colorectal cancer': ['intravenous oxaliplatin'],\n",
       " 'mitomycin-resistant bladder cancer': ['photodynamic therapy in combination with mitomycin c'],\n",
       " 'moderately symptomatic benign prostatic hyperplasia': ['surgical resection'],\n",
       " 'multiple sclerosis': ['interferon beta treatment',\n",
       "  'intravenous immunoglobulin treatment'],\n",
       " 'mutated prostate cancer': ['radical prostatectomy and iodine 125 interstitial radiotherapy'],\n",
       " 'myocardial angiogenesis': ['gene therapy'],\n",
       " 'neutropenia during cancer': ['chemotherapy'],\n",
       " \"non-hodgkin 's lymphoma , breast cancer\": ['oxaliplatin'],\n",
       " 'non-obstructive azoospermia': ['testicular sperm retrieval by testicular fine needle aspiration ( tefna )',\n",
       "  'open biopsy and testicular sperm extraction ( tese )'],\n",
       " 'non-small cell lung cancer': ['combination with paclitaxel and carboplatin'],\n",
       " 'non-small-cell-lung-cancer ( nsclc )': ['cisplatin and radiotherapy'],\n",
       " 'nonimmune hydrops fetalis': ['trisomy'],\n",
       " 'nsclc': ['got surgical treatment',\n",
       "  'radiotherapy',\n",
       "  'got surgical treatment',\n",
       "  'radiotherapy',\n",
       "  'platinum-based chemotherapy'],\n",
       " 'ovarian cancer': ['hormone replacement therapy',\n",
       "  'undergone subcutaneous mastectomy'],\n",
       " 'ovarian carcinoma brain metastasis': ['surgical resection'],\n",
       " \"parkinson 's disease\": ['microelectrode-guided posteroventral pallidotomy'],\n",
       " 'partial seizures': ['lamotrigine ( ltg )', 'lamotrigine monotherapy'],\n",
       " 'peritoneal tumors': ['subcutaneous injection of irradiated llc-il2'],\n",
       " 'persistent asthma': ['contemporary asthma management guidelines list inhaled corticosteroids'],\n",
       " 'phaeochromocytoma': ['adrenalectomy'],\n",
       " 'platinum-pretreated ovarian cancer': ['oxaliplatin'],\n",
       " 'postvitrectomy diabetic vitreous hemorrhage': ['peripheral retinal cryotherapy'],\n",
       " 'preeclampsia ( proteinuric hypertension )': ['intrauterine insemination with donor sperm versus intrauterine insemination'],\n",
       " 'primary cancer': ['adjuvant radiation therapy'],\n",
       " 'primary lung cancer': ['resection'],\n",
       " 'primary pulmonary hypertension ( pph )': ['fenfluramines'],\n",
       " 'primary uveal melanoma': ['transpupillary thermotherapy'],\n",
       " 'prostate cancer': ['radical prostatectomy and iodine 125 interstitial radiotherapy'],\n",
       " 'proximal hypospadias': ['tubularized incised plate hypospadias repair'],\n",
       " 'psoriasis': ['topical application of active vitamin d3 analogue , 1 alpha , 24-dihydroxycholecalciferol'],\n",
       " 'pulmonary symptoms attributable': ['chemotherapy'],\n",
       " 'radiation-induced myelopathy': ['heparin and enoxaparin'],\n",
       " 'renal cell carcinoma': ['interferon treatment'],\n",
       " 'rhinovirus': ['clarithromycin'],\n",
       " 'rhinovirus colds': ['clarithromycin'],\n",
       " 'sclc': ['got surgical treatment',\n",
       "  'radiotherapy',\n",
       "  'got surgical treatment',\n",
       "  'radiotherapy',\n",
       "  'platinum-based chemotherapy'],\n",
       " 'severe acquired hyperammonemia': ['organ transplantation and chemotherapy',\n",
       "  'matrix metalloproteinase inhibitors'],\n",
       " 'severe hypoxemia': ['glucocorticoid pulse therapy'],\n",
       " 'severe secondary peritonitis': ['surgical management'],\n",
       " 'small-cell lung cancer': ['chemotherapy', 'combination chemotherapy'],\n",
       " 'soft tissue sarcomas': ['radiotherapy'],\n",
       " 'sore throat': ['antibiotics'],\n",
       " 'spinal adhesive arachnoiditis': ['surgical management'],\n",
       " 'squamous cell carcinoma': ['resection'],\n",
       " 'stage 0 lung carcinoma': ['curative therapy'],\n",
       " 'stage iii nsclc': ['chemotherapy administered before surgery'],\n",
       " 'stress urinary incontinence': ['therapy'],\n",
       " 'supraclavicular node metastases in nsclc': ['chemoradiotherapy'],\n",
       " 'temporomandibular joint arthropathy': ['arthroscopic treatment'],\n",
       " 'the common cold': ['pseudoephedrine plus acetaminophen'],\n",
       " 'tumors': ['immunotherapy'],\n",
       " 'unstable angina or non-q-wave myocardial infarction': ['roxithromycin'],\n",
       " 'ventricular tachycardia': ['guiding surgical therapy']}"
      ]
     },
     "execution_count": 30,
     "metadata": {},
     "output_type": "execute_result"
    }
   ],
   "source": [
    "# Obtaining a cleaned version of our \"disease_treatment\" dictionary\n",
    "dt_dict = {}\n",
    "for key in disease_treatment.keys():\n",
    "    if disease_treatment[key] != []:\n",
    "        dt_dict[key] = disease_treatment[key]\n",
    "dt_dict"
   ]
  },
  {
   "cell_type": "markdown",
   "metadata": {},
   "source": [
    "## Predict the treatment for the disease name: 'hereditary retinoblastoma'"
   ]
  },
  {
   "cell_type": "code",
   "execution_count": 31,
   "metadata": {
    "colab": {
     "base_uri": "https://localhost:8080/"
    },
    "id": "4FhPYRrMXz5S",
    "outputId": "52a59911-0ba9-4c0a-d5ef-b43c44aeca75"
   },
   "outputs": [
    {
     "name": "stdout",
     "output_type": "stream",
     "text": [
      "Treatments for 'hereditary retinoblastoma' is/are 'radiotherapy'\n"
     ]
    }
   ],
   "source": [
    "search_item = 'hereditary retinoblastoma'\n",
    "treatments = dt_dict[search_item]\n",
    "print(\"Treatments for '{0}' is/are \".format(search_item), end = \"\")\n",
    "for i in range(len(treatments)-1):\n",
    "    print(\"'{}'\".format(treatments[i]),\",\", end=\"\")\n",
    "print(\"'{}'\".format(treatments[-1]))"
   ]
  }
 ],
 "metadata": {
  "accelerator": "GPU",
  "colab": {
   "collapsed_sections": [],
   "name": "Untitled6.ipynb",
   "provenance": []
  },
  "gpuClass": "standard",
  "kernelspec": {
   "display_name": "Python 3 (ipykernel)",
   "language": "python",
   "name": "python3"
  },
  "language_info": {
   "codemirror_mode": {
    "name": "ipython",
    "version": 3
   },
   "file_extension": ".py",
   "mimetype": "text/x-python",
   "name": "python",
   "nbconvert_exporter": "python",
   "pygments_lexer": "ipython3",
   "version": "3.9.12"
  }
 },
 "nbformat": 4,
 "nbformat_minor": 1
}
